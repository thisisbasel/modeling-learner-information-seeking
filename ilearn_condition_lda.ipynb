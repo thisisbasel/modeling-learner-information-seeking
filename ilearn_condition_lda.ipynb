{
 "cells": [
  {
   "cell_type": "markdown",
   "metadata": {},
   "source": [
    "### Import data "
   ]
  },
  {
   "cell_type": "code",
   "execution_count": 28,
   "metadata": {},
   "outputs": [
    {
     "data": {
      "text/html": [
       "<div>\n",
       "<style scoped>\n",
       "    .dataframe tbody tr th:only-of-type {\n",
       "        vertical-align: middle;\n",
       "    }\n",
       "\n",
       "    .dataframe tbody tr th {\n",
       "        vertical-align: top;\n",
       "    }\n",
       "\n",
       "    .dataframe thead th {\n",
       "        text-align: right;\n",
       "    }\n",
       "</style>\n",
       "<table border=\"1\" class=\"dataframe\">\n",
       "  <thead>\n",
       "    <tr style=\"text-align: right;\">\n",
       "      <th></th>\n",
       "      <th>order</th>\n",
       "      <th>id</th>\n",
       "      <th>date</th>\n",
       "      <th>time</th>\n",
       "      <th>title</th>\n",
       "      <th>url</th>\n",
       "      <th>visitCount</th>\n",
       "      <th>typedCount</th>\n",
       "      <th>transition</th>\n",
       "      <th>text</th>\n",
       "    </tr>\n",
       "  </thead>\n",
       "  <tbody>\n",
       "    <tr>\n",
       "      <th>0</th>\n",
       "      <td>0</td>\n",
       "      <td>64</td>\n",
       "      <td>2/2/22</td>\n",
       "      <td>15:35:02</td>\n",
       "      <td>Philosophy of Artificial Intelligence - Biblio...</td>\n",
       "      <td>https://philpapers.org/browse/philosophy-of-ar...</td>\n",
       "      <td>1</td>\n",
       "      <td>0</td>\n",
       "      <td>link</td>\n",
       "      <td>\\n\\nSign in | Create an account\\nPhilPapers Ph...</td>\n",
       "    </tr>\n",
       "    <tr>\n",
       "      <th>1</th>\n",
       "      <td>1</td>\n",
       "      <td>63</td>\n",
       "      <td>2/2/22</td>\n",
       "      <td>15:34:32</td>\n",
       "      <td>Philosophy of artificial intelligence - Google...</td>\n",
       "      <td>https://www.google.com/search?q=Philosophy+of+...</td>\n",
       "      <td>2</td>\n",
       "      <td>0</td>\n",
       "      <td>link</td>\n",
       "      <td>\\n\\nSkip to main contentAccessibility help\\nAc...</td>\n",
       "    </tr>\n",
       "    <tr>\n",
       "      <th>2</th>\n",
       "      <td>2</td>\n",
       "      <td>63</td>\n",
       "      <td>2/2/22</td>\n",
       "      <td>15:34:31</td>\n",
       "      <td>Philosophy of artificial intelligence - Google...</td>\n",
       "      <td>https://www.google.com/search?q=Philosophy+of+...</td>\n",
       "      <td>2</td>\n",
       "      <td>0</td>\n",
       "      <td>link</td>\n",
       "      <td>\\n\\nSkip to main contentAccessibility help\\nAc...</td>\n",
       "    </tr>\n",
       "    <tr>\n",
       "      <th>3</th>\n",
       "      <td>3</td>\n",
       "      <td>62</td>\n",
       "      <td>2/2/22</td>\n",
       "      <td>15:33:54</td>\n",
       "      <td>Rule engines - Google Search</td>\n",
       "      <td>https://www.google.com/search?q=Rule+engines</td>\n",
       "      <td>2</td>\n",
       "      <td>0</td>\n",
       "      <td>link</td>\n",
       "      <td>\\n\\nSkip to main contentAccessibility help\\nAc...</td>\n",
       "    </tr>\n",
       "    <tr>\n",
       "      <th>4</th>\n",
       "      <td>4</td>\n",
       "      <td>62</td>\n",
       "      <td>2/2/22</td>\n",
       "      <td>15:33:53</td>\n",
       "      <td>Rule engines - Google Search</td>\n",
       "      <td>https://www.google.com/search?q=Rule+engines</td>\n",
       "      <td>2</td>\n",
       "      <td>0</td>\n",
       "      <td>link</td>\n",
       "      <td>\\n\\nSkip to main contentAccessibility help\\nAc...</td>\n",
       "    </tr>\n",
       "  </tbody>\n",
       "</table>\n",
       "</div>"
      ],
      "text/plain": [
       "   order  id    date      time  \\\n",
       "0      0  64  2/2/22  15:35:02   \n",
       "1      1  63  2/2/22  15:34:32   \n",
       "2      2  63  2/2/22  15:34:31   \n",
       "3      3  62  2/2/22  15:33:54   \n",
       "4      4  62  2/2/22  15:33:53   \n",
       "\n",
       "                                               title  \\\n",
       "0  Philosophy of Artificial Intelligence - Biblio...   \n",
       "1  Philosophy of artificial intelligence - Google...   \n",
       "2  Philosophy of artificial intelligence - Google...   \n",
       "3                       Rule engines - Google Search   \n",
       "4                       Rule engines - Google Search   \n",
       "\n",
       "                                                 url  visitCount  typedCount  \\\n",
       "0  https://philpapers.org/browse/philosophy-of-ar...           1           0   \n",
       "1  https://www.google.com/search?q=Philosophy+of+...           2           0   \n",
       "2  https://www.google.com/search?q=Philosophy+of+...           2           0   \n",
       "3       https://www.google.com/search?q=Rule+engines           2           0   \n",
       "4       https://www.google.com/search?q=Rule+engines           2           0   \n",
       "\n",
       "  transition                                               text  \n",
       "0       link  \\n\\nSign in | Create an account\\nPhilPapers Ph...  \n",
       "1       link  \\n\\nSkip to main contentAccessibility help\\nAc...  \n",
       "2       link  \\n\\nSkip to main contentAccessibility help\\nAc...  \n",
       "3       link  \\n\\nSkip to main contentAccessibility help\\nAc...  \n",
       "4       link  \\n\\nSkip to main contentAccessibility help\\nAc...  "
      ]
     },
     "execution_count": 28,
     "metadata": {},
     "output_type": "execute_result"
    }
   ],
   "source": [
    "import pandas as pd\n",
    "df = pd.read_csv('/Users/baselhussein/Projects/ilearn/lda-analysis/data/p01_history_clean.csv')\n",
    "df.head()"
   ]
  },
  {
   "cell_type": "markdown",
   "metadata": {},
   "source": [
    "### Preprocessing"
   ]
  },
  {
   "cell_type": "code",
   "execution_count": 29,
   "metadata": {},
   "outputs": [],
   "source": [
    "### clean df for text and time\n",
    "\n",
    "df_text = df[['text', 'title']]"
   ]
  },
  {
   "cell_type": "code",
   "execution_count": 30,
   "metadata": {},
   "outputs": [
    {
     "data": {
      "text/html": [
       "<div>\n",
       "<style scoped>\n",
       "    .dataframe tbody tr th:only-of-type {\n",
       "        vertical-align: middle;\n",
       "    }\n",
       "\n",
       "    .dataframe tbody tr th {\n",
       "        vertical-align: top;\n",
       "    }\n",
       "\n",
       "    .dataframe thead th {\n",
       "        text-align: right;\n",
       "    }\n",
       "</style>\n",
       "<table border=\"1\" class=\"dataframe\">\n",
       "  <thead>\n",
       "    <tr style=\"text-align: right;\">\n",
       "      <th></th>\n",
       "      <th>text</th>\n",
       "      <th>title</th>\n",
       "      <th>preprocessed_text</th>\n",
       "      <th>tokenized_text</th>\n",
       "    </tr>\n",
       "  </thead>\n",
       "  <tbody>\n",
       "    <tr>\n",
       "      <th>0</th>\n",
       "      <td>\\n\\nSign in | Create an account\\nPhilPapers Ph...</td>\n",
       "      <td>Philosophy of Artificial Intelligence - Biblio...</td>\n",
       "      <td>sign | create account philpapers philpeople ph...</td>\n",
       "      <td>[sign, create, account, philpapers, philpeople...</td>\n",
       "    </tr>\n",
       "    <tr>\n",
       "      <th>1</th>\n",
       "      <td>\\n\\nSkip to main contentAccessibility help\\nAc...</td>\n",
       "      <td>Philosophy of artificial intelligence - Google...</td>\n",
       "      <td>skip main contentaccessibility help accessibil...</td>\n",
       "      <td>[skip, main, contentaccessibility, help, acces...</td>\n",
       "    </tr>\n",
       "    <tr>\n",
       "      <th>2</th>\n",
       "      <td>\\n\\nSkip to main contentAccessibility help\\nAc...</td>\n",
       "      <td>Philosophy of artificial intelligence - Google...</td>\n",
       "      <td>skip main contentaccessibility help accessibil...</td>\n",
       "      <td>[skip, main, contentaccessibility, help, acces...</td>\n",
       "    </tr>\n",
       "    <tr>\n",
       "      <th>3</th>\n",
       "      <td>\\n\\nSkip to main contentAccessibility help\\nAc...</td>\n",
       "      <td>Rule engines - Google Search</td>\n",
       "      <td>skip main contentaccessibility help accessibil...</td>\n",
       "      <td>[skip, main, contentaccessibility, help, acces...</td>\n",
       "    </tr>\n",
       "    <tr>\n",
       "      <th>4</th>\n",
       "      <td>\\n\\nSkip to main contentAccessibility help\\nAc...</td>\n",
       "      <td>Rule engines - Google Search</td>\n",
       "      <td>skip main contentaccessibility help accessibil...</td>\n",
       "      <td>[skip, main, contentaccessibility, help, acces...</td>\n",
       "    </tr>\n",
       "  </tbody>\n",
       "</table>\n",
       "</div>"
      ],
      "text/plain": [
       "                                                text  \\\n",
       "0  \\n\\nSign in | Create an account\\nPhilPapers Ph...   \n",
       "1  \\n\\nSkip to main contentAccessibility help\\nAc...   \n",
       "2  \\n\\nSkip to main contentAccessibility help\\nAc...   \n",
       "3  \\n\\nSkip to main contentAccessibility help\\nAc...   \n",
       "4  \\n\\nSkip to main contentAccessibility help\\nAc...   \n",
       "\n",
       "                                               title  \\\n",
       "0  Philosophy of Artificial Intelligence - Biblio...   \n",
       "1  Philosophy of artificial intelligence - Google...   \n",
       "2  Philosophy of artificial intelligence - Google...   \n",
       "3                       Rule engines - Google Search   \n",
       "4                       Rule engines - Google Search   \n",
       "\n",
       "                                   preprocessed_text  \\\n",
       "0  sign | create account philpapers philpeople ph...   \n",
       "1  skip main contentaccessibility help accessibil...   \n",
       "2  skip main contentaccessibility help accessibil...   \n",
       "3  skip main contentaccessibility help accessibil...   \n",
       "4  skip main contentaccessibility help accessibil...   \n",
       "\n",
       "                                      tokenized_text  \n",
       "0  [sign, create, account, philpapers, philpeople...  \n",
       "1  [skip, main, contentaccessibility, help, acces...  \n",
       "2  [skip, main, contentaccessibility, help, acces...  \n",
       "3  [skip, main, contentaccessibility, help, acces...  \n",
       "4  [skip, main, contentaccessibility, help, acces...  "
      ]
     },
     "execution_count": 30,
     "metadata": {},
     "output_type": "execute_result"
    }
   ],
   "source": [
    "from sklearn.feature_extraction.text import CountVectorizer\n",
    "from gensim.corpora import Dictionary\n",
    "from gensim.models.ldamodel import LdaModel\n",
    "from gensim.models import CoherenceModel\n",
    "from nltk.corpus import stopwords\n",
    "from nltk.tokenize import RegexpTokenizer\n",
    "from datetime import datetime\n",
    "import nltk\n",
    "import gensim\n",
    "import pandas as pd\n",
    "import re\n",
    "import math\n",
    "\n",
    "def clean_text(df=df_text, \n",
    "                 text='text', \n",
    "                ):\n",
    "    \n",
    "    df_copy = df.copy()\n",
    "    \n",
    "    \n",
    "    # lowercase the text\n",
    "    df_copy['preprocessed_' + text] = df_copy[text].str.lower()\n",
    "    \n",
    "    # filter out stop words \n",
    "    en_stop_words = set(stopwords.words('english'))\n",
    "    extended_stop_words = en_stop_words | \\\n",
    "                        {\n",
    "                            'Sign in', 'com', 'www'\n",
    "                        }\n",
    "    url_re = '(https?:\\/\\/(?:www\\.|(?!www))[a-zA-Z0-9][a-zA-Z0-9-]+[a-zA-Z0-9]\\.[^\\s]{2,}|www\\.[a-zA-Z0-9][a-zA-Z0-9-]+[a-zA-Z0-9]\\.[^\\s]{2,}|https?:\\/\\/(?:www\\.|(?!www))[a-zA-Z0-9]+\\.[^\\s]{2,}|www\\.[a-zA-Z0-9]+\\.[^\\s]{2,})'        \n",
    "    df_copy['preprocessed_' + text] = df_copy['preprocessed_' + text].apply(lambda row: ' '.join([word for word in row.split() if (not word in extended_stop_words) and (not re.match(url_re, word))]))\n",
    "    \n",
    "    # tokenize the text\n",
    "    tokenizer = RegexpTokenizer('[a-zA-Z]\\w+\\'?\\w*')\n",
    "    df_copy['tokenized_' + text] = df_copy['preprocessed_' + text].apply(lambda row: tokenizer.tokenize(row))\n",
    "    \n",
    "    return df_copy\n",
    "  \n",
    "df_text_clean = clean_text(df_text)\n",
    "df_text_clean.head()"
   ]
  },
  {
   "cell_type": "code",
   "execution_count": 31,
   "metadata": {},
   "outputs": [],
   "source": [
    "#df_text_clean.loc[0]['tokenized_text']"
   ]
  },
  {
   "cell_type": "markdown",
   "metadata": {},
   "source": [
    "### Bag of words"
   ]
  },
  {
   "cell_type": "code",
   "execution_count": 32,
   "metadata": {},
   "outputs": [
    {
     "data": {
      "text/plain": [
       "[('ai', 536),\n",
       " ('artificial', 469),\n",
       " ('intelligence', 345),\n",
       " ('computer', 233),\n",
       " ('philosophy', 190),\n",
       " ('system', 188),\n",
       " ('immune', 177),\n",
       " ('logic', 173),\n",
       " ('fuzzy', 173),\n",
       " ('systems', 163),\n",
       " ('genetic', 153),\n",
       " ('turing', 149),\n",
       " ('learning', 149),\n",
       " ('programming', 144),\n",
       " ('machine', 141),\n",
       " ('human', 141),\n",
       " ('test', 141),\n",
       " ('video', 141),\n",
       " ('vision', 138),\n",
       " ('game', 136),\n",
       " ('feedback', 130),\n",
       " ('chatbots', 112),\n",
       " ('technology', 106),\n",
       " ('results', 106),\n",
       " ('games', 101),\n",
       " ('based', 100),\n",
       " ('search', 91),\n",
       " ('chatbot', 88),\n",
       " ('also', 86),\n",
       " ('open', 86),\n",
       " ('nature', 82),\n",
       " ('science', 80),\n",
       " ('software', 79),\n",
       " ('use', 78),\n",
       " ('people', 78),\n",
       " ('data', 77),\n",
       " ('engine', 76),\n",
       " ('robots', 75),\n",
       " ('argument', 74),\n",
       " ('rule', 72),\n",
       " ('youtube', 71),\n",
       " ('rules', 70),\n",
       " ('source', 67),\n",
       " ('key', 65),\n",
       " ('new', 64),\n",
       " ('help', 64),\n",
       " ('arm', 64),\n",
       " ('tools', 63),\n",
       " ('algorithms', 62),\n",
       " ('research', 61)]"
      ]
     },
     "execution_count": 32,
     "metadata": {},
     "output_type": "execute_result"
    }
   ],
   "source": [
    "def get_most_freq_words(str, n=None):\n",
    "    vect = CountVectorizer().fit(str)\n",
    "    bag_of_words = vect.transform(str)\n",
    "    sum_words = bag_of_words.sum(axis=0) \n",
    "    freq = [(word, sum_words[0, idx]) for word, idx in vect.vocabulary_.items()]\n",
    "    freq =sorted(freq, key = lambda x: x[1], reverse=True)\n",
    "    return freq[:n]\n",
    "  \n",
    "get_most_freq_words([ word for text in df_text_clean.tokenized_text for word in text],50)"
   ]
  },
  {
   "cell_type": "markdown",
   "metadata": {},
   "source": [
    "### Topic coherence"
   ]
  },
  {
   "cell_type": "code",
   "execution_count": 33,
   "metadata": {},
   "outputs": [
    {
     "data": {
      "image/png": "[encoded data removed]",
      "text/plain": [
       "<Figure size 720x360 with 1 Axes>"
      ]
     },
     "metadata": {
      "needs_background": "light"
     },
     "output_type": "display_data"
    }
   ],
   "source": [
    "# build a dictionary where for each site, each word has its own id.\n",
    "text_dictionary = Dictionary(df_text_clean.tokenized_text)\n",
    "\n",
    "# build the corpus i.e. vectors with the number of occurence of each word per tweet\n",
    "text_corpus = [text_dictionary.doc2bow(text) for text in df_text_clean.tokenized_text]\n",
    "\n",
    "# compute coherence\n",
    "text_coherence = []\n",
    "for nb_topics in range(1,36):\n",
    "    lda = LdaModel(text_corpus, num_topics = nb_topics, id2word = text_dictionary, passes=10)\n",
    "    cohm = CoherenceModel(model=lda, corpus=text_corpus, dictionary=text_dictionary, coherence='u_mass')\n",
    "    coh = cohm.get_coherence()\n",
    "    text_coherence.append(coh)\n",
    "\n",
    "# visualize coherence\n",
    "import matplotlib.pyplot as plt\n",
    "plt.figure(figsize=(10,5))\n",
    "plt.plot(range(1,36),text_coherence)\n",
    "plt.xlabel(\"Number of Topics\")\n",
    "plt.ylabel(\"Coherence Score\");"
   ]
  },
  {
   "cell_type": "markdown",
   "metadata": {},
   "source": [
    "### Run LDA"
   ]
  },
  {
   "cell_type": "code",
   "execution_count": 41,
   "metadata": {},
   "outputs": [
    {
     "data": {
      "image/png": "[encoded data removed]",
      "text/plain": [
       "<Figure size 1440x1080 with 10 Axes>"
      ]
     },
     "metadata": {
      "needs_background": "light"
     },
     "output_type": "display_data"
    }
   ],
   "source": [
    "from matplotlib import gridspec\n",
    "\n",
    "k = 10\n",
    "text_lda = LdaModel(text_corpus, num_topics = k, id2word = text_dictionary, passes=10)\n",
    "\n",
    "def plot_top_words(lda=text_lda, nb_topics=k, nb_words=5):\n",
    "    top_words = [[word for word,_ in lda.show_topic(topic_id, topn=50)] for topic_id in range(lda.num_topics)]\n",
    "    top_betas = [[beta for _,beta in lda.show_topic(topic_id, topn=50)] for topic_id in range(lda.num_topics)]\n",
    "\n",
    "    gs  = gridspec.GridSpec(round(math.sqrt(k))+1,round(math.sqrt(k))+1)\n",
    "    gs.update(wspace=0.5, hspace=0.5)\n",
    "    plt.figure(figsize=(20,15))\n",
    "    for i in range(nb_topics):\n",
    "        ax = plt.subplot(gs[i])\n",
    "        plt.barh(range(nb_words), top_betas[i][:nb_words], align='center',color='blue', ecolor='black')\n",
    "        ax.invert_yaxis()\n",
    "        ax.set_yticks(range(nb_words))\n",
    "        ax.set_yticklabels(top_words[i][:nb_words])\n",
    "        plt.title(\"Topic \"+str(i))\n",
    "        \n",
    "        \n",
    "  \n",
    "plot_top_words()"
   ]
  },
  {
   "cell_type": "code",
   "execution_count": 57,
   "metadata": {},
   "outputs": [],
   "source": [
    "#notebook adapted from \n",
    "#https://towardsdatascience.com/topic-modeling-with-latent-dirichlet-allocation-by-example-3b22cd10c835"
   ]
  },
  {
   "cell_type": "code",
   "execution_count": null,
   "metadata": {},
   "outputs": [],
   "source": []
  },
  {
   "cell_type": "code",
   "execution_count": null,
   "metadata": {},
   "outputs": [],
   "source": []
  }
 ],
 "metadata": {
  "kernelspec": {
   "display_name": "Python 3",
   "language": "python",
   "name": "python3"
  },
  "language_info": {
   "codemirror_mode": {
    "name": "ipython",
    "version": 3
   },
   "file_extension": ".py",
   "mimetype": "text/x-python",
   "name": "python",
   "nbconvert_exporter": "python",
   "pygments_lexer": "ipython3",
   "version": "3.8.5"
  }
 },
 "nbformat": 4,
 "nbformat_minor": 4
}
