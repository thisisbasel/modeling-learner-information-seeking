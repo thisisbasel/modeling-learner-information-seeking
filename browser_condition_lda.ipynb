{
 "cells": [
  {
   "cell_type": "markdown",
   "metadata": {},
   "source": [
    "### Import packages and data "
   ]
  },
  {
   "cell_type": "code",
   "execution_count": 1,
   "metadata": {},
   "outputs": [
    {
     "data": {
      "text/html": [
       "<div>\n",
       "<style scoped>\n",
       "    .dataframe tbody tr th:only-of-type {\n",
       "        vertical-align: middle;\n",
       "    }\n",
       "\n",
       "    .dataframe tbody tr th {\n",
       "        vertical-align: top;\n",
       "    }\n",
       "\n",
       "    .dataframe thead th {\n",
       "        text-align: right;\n",
       "    }\n",
       "</style>\n",
       "<table border=\"1\" class=\"dataframe\">\n",
       "  <thead>\n",
       "    <tr style=\"text-align: right;\">\n",
       "      <th></th>\n",
       "      <th>order</th>\n",
       "      <th>id</th>\n",
       "      <th>date</th>\n",
       "      <th>time</th>\n",
       "      <th>title</th>\n",
       "      <th>url</th>\n",
       "      <th>visitCount</th>\n",
       "      <th>typedCount</th>\n",
       "      <th>transition</th>\n",
       "      <th>text</th>\n",
       "    </tr>\n",
       "  </thead>\n",
       "  <tbody>\n",
       "    <tr>\n",
       "      <th>0</th>\n",
       "      <td>1</td>\n",
       "      <td>83</td>\n",
       "      <td>2/8/22</td>\n",
       "      <td>16:59:52</td>\n",
       "      <td>Polynomials - Calcworkshop</td>\n",
       "      <td>https://calcworkshop.com/polynomials/</td>\n",
       "      <td>1</td>\n",
       "      <td>0</td>\n",
       "      <td>link</td>\n",
       "      <td>Polynomials\\n1 hr 34 min 35 Examples\\n\\nIntrod...</td>\n",
       "    </tr>\n",
       "    <tr>\n",
       "      <th>1</th>\n",
       "      <td>2</td>\n",
       "      <td>82</td>\n",
       "      <td>2/8/22</td>\n",
       "      <td>16:59:31</td>\n",
       "      <td>Calculus - Course Topics</td>\n",
       "      <td>https://calcworkshop.com/courses/</td>\n",
       "      <td>1</td>\n",
       "      <td>0</td>\n",
       "      <td>link</td>\n",
       "      <td>Calcworkshop\\n* Home\\n* Reviews\\n* Courses\\no ...</td>\n",
       "    </tr>\n",
       "    <tr>\n",
       "      <th>2</th>\n",
       "      <td>3</td>\n",
       "      <td>81</td>\n",
       "      <td>2/8/22</td>\n",
       "      <td>16:59:21</td>\n",
       "      <td>You Can Turn Your Calculus Grade Around - Calc...</td>\n",
       "      <td>https://calcworkshop.com/lp/calculus-ds-alt-v0...</td>\n",
       "      <td>1</td>\n",
       "      <td>0</td>\n",
       "      <td>link</td>\n",
       "      <td>\\n\\nCalcworkshop\\nHome\\nReviews\\nCourses\\nAlge...</td>\n",
       "    </tr>\n",
       "    <tr>\n",
       "      <th>3</th>\n",
       "      <td>4</td>\n",
       "      <td>80</td>\n",
       "      <td>2/8/22</td>\n",
       "      <td>16:58:56</td>\n",
       "      <td>You Can Turn Your Calculus Grade Around - Calc...</td>\n",
       "      <td>https://calcworkshop.com/lp/calculus-ds-alt-v0...</td>\n",
       "      <td>1</td>\n",
       "      <td>0</td>\n",
       "      <td>link</td>\n",
       "      <td>\\n\\nCalcworkshop\\nHome\\nReviews\\nCourses\\nAlge...</td>\n",
       "    </tr>\n",
       "    <tr>\n",
       "      <th>4</th>\n",
       "      <td>5</td>\n",
       "      <td>78</td>\n",
       "      <td>2/8/22</td>\n",
       "      <td>16:51:46</td>\n",
       "      <td>Probability Distribution Functions (PMF, PDF, ...</td>\n",
       "      <td>https://www.youtube.com/watch?v=YXLVjCKVP7U</td>\n",
       "      <td>1</td>\n",
       "      <td>0</td>\n",
       "      <td>link</td>\n",
       "      <td>\\n\\n\\n\\n\\nSKIP NAVIGATION\\n\\n\\n\\n\\n\\nSIGN IN\\n...</td>\n",
       "    </tr>\n",
       "  </tbody>\n",
       "</table>\n",
       "</div>"
      ],
      "text/plain": [
       "   order  id    date      time  \\\n",
       "0      1  83  2/8/22  16:59:52   \n",
       "1      2  82  2/8/22  16:59:31   \n",
       "2      3  81  2/8/22  16:59:21   \n",
       "3      4  80  2/8/22  16:58:56   \n",
       "4      5  78  2/8/22  16:51:46   \n",
       "\n",
       "                                               title  \\\n",
       "0                         Polynomials - Calcworkshop   \n",
       "1                           Calculus - Course Topics   \n",
       "2  You Can Turn Your Calculus Grade Around - Calc...   \n",
       "3  You Can Turn Your Calculus Grade Around - Calc...   \n",
       "4  Probability Distribution Functions (PMF, PDF, ...   \n",
       "\n",
       "                                                 url  visitCount  typedCount  \\\n",
       "0              https://calcworkshop.com/polynomials/           1           0   \n",
       "1                  https://calcworkshop.com/courses/           1           0   \n",
       "2  https://calcworkshop.com/lp/calculus-ds-alt-v0...           1           0   \n",
       "3  https://calcworkshop.com/lp/calculus-ds-alt-v0...           1           0   \n",
       "4        https://www.youtube.com/watch?v=YXLVjCKVP7U           1           0   \n",
       "\n",
       "  transition                                               text  \n",
       "0       link  Polynomials\\n1 hr 34 min 35 Examples\\n\\nIntrod...  \n",
       "1       link  Calcworkshop\\n* Home\\n* Reviews\\n* Courses\\no ...  \n",
       "2       link  \\n\\nCalcworkshop\\nHome\\nReviews\\nCourses\\nAlge...  \n",
       "3       link  \\n\\nCalcworkshop\\nHome\\nReviews\\nCourses\\nAlge...  \n",
       "4       link  \\n\\n\\n\\n\\nSKIP NAVIGATION\\n\\n\\n\\n\\n\\nSIGN IN\\n...  "
      ]
     },
     "execution_count": 1,
     "metadata": {},
     "output_type": "execute_result"
    }
   ],
   "source": [
    "import pandas as pd\n",
    "df = pd.read_csv('/Users/baselhussein/Projects/ilearn/lda-analysis/data/p02_history_clean.csv')\n",
    "df.head()"
   ]
  },
  {
   "cell_type": "markdown",
   "metadata": {},
   "source": [
    "### Preprocessing"
   ]
  },
  {
   "cell_type": "code",
   "execution_count": 2,
   "metadata": {},
   "outputs": [],
   "source": [
    "### clean df for text and time\n",
    "\n",
    "df_text = df[['text', 'title']]"
   ]
  },
  {
   "cell_type": "code",
   "execution_count": 3,
   "metadata": {},
   "outputs": [
    {
     "data": {
      "text/html": [
       "<div>\n",
       "<style scoped>\n",
       "    .dataframe tbody tr th:only-of-type {\n",
       "        vertical-align: middle;\n",
       "    }\n",
       "\n",
       "    .dataframe tbody tr th {\n",
       "        vertical-align: top;\n",
       "    }\n",
       "\n",
       "    .dataframe thead th {\n",
       "        text-align: right;\n",
       "    }\n",
       "</style>\n",
       "<table border=\"1\" class=\"dataframe\">\n",
       "  <thead>\n",
       "    <tr style=\"text-align: right;\">\n",
       "      <th></th>\n",
       "      <th>text</th>\n",
       "      <th>title</th>\n",
       "      <th>preprocessed_text</th>\n",
       "      <th>tokenized_text</th>\n",
       "    </tr>\n",
       "  </thead>\n",
       "  <tbody>\n",
       "    <tr>\n",
       "      <th>0</th>\n",
       "      <td>Polynomials\\n1 hr 34 min 35 Examples\\n\\nIntrod...</td>\n",
       "      <td>Polynomials - Calcworkshop</td>\n",
       "      <td>polynomials 1 hr 34 min 35 examples introducti...</td>\n",
       "      <td>[polynomials, hr, min, examples, introduction,...</td>\n",
       "    </tr>\n",
       "    <tr>\n",
       "      <th>1</th>\n",
       "      <td>Calcworkshop\\n* Home\\n* Reviews\\n* Courses\\no ...</td>\n",
       "      <td>Calculus - Course Topics</td>\n",
       "      <td>calcworkshop * home * reviews * courses algebr...</td>\n",
       "      <td>[calcworkshop, home, reviews, courses, algebra...</td>\n",
       "    </tr>\n",
       "    <tr>\n",
       "      <th>2</th>\n",
       "      <td>\\n\\nCalcworkshop\\nHome\\nReviews\\nCourses\\nAlge...</td>\n",
       "      <td>You Can Turn Your Calculus Grade Around - Calc...</td>\n",
       "      <td>calcworkshop home reviews courses algebra &amp; ii...</td>\n",
       "      <td>[calcworkshop, home, reviews, courses, algebra...</td>\n",
       "    </tr>\n",
       "    <tr>\n",
       "      <th>3</th>\n",
       "      <td>\\n\\nCalcworkshop\\nHome\\nReviews\\nCourses\\nAlge...</td>\n",
       "      <td>You Can Turn Your Calculus Grade Around - Calc...</td>\n",
       "      <td>calcworkshop home reviews courses algebra &amp; ii...</td>\n",
       "      <td>[calcworkshop, home, reviews, courses, algebra...</td>\n",
       "    </tr>\n",
       "    <tr>\n",
       "      <th>4</th>\n",
       "      <td>\\n\\n\\n\\n\\nSKIP NAVIGATION\\n\\n\\n\\n\\n\\nSIGN IN\\n...</td>\n",
       "      <td>Probability Distribution Functions (PMF, PDF, ...</td>\n",
       "      <td>skip navigation sign ad 1 2 · 0:13 grow.google...</td>\n",
       "      <td>[skip, navigation, sign, ad, grow, google, cer...</td>\n",
       "    </tr>\n",
       "  </tbody>\n",
       "</table>\n",
       "</div>"
      ],
      "text/plain": [
       "                                                text  \\\n",
       "0  Polynomials\\n1 hr 34 min 35 Examples\\n\\nIntrod...   \n",
       "1  Calcworkshop\\n* Home\\n* Reviews\\n* Courses\\no ...   \n",
       "2  \\n\\nCalcworkshop\\nHome\\nReviews\\nCourses\\nAlge...   \n",
       "3  \\n\\nCalcworkshop\\nHome\\nReviews\\nCourses\\nAlge...   \n",
       "4  \\n\\n\\n\\n\\nSKIP NAVIGATION\\n\\n\\n\\n\\n\\nSIGN IN\\n...   \n",
       "\n",
       "                                               title  \\\n",
       "0                         Polynomials - Calcworkshop   \n",
       "1                           Calculus - Course Topics   \n",
       "2  You Can Turn Your Calculus Grade Around - Calc...   \n",
       "3  You Can Turn Your Calculus Grade Around - Calc...   \n",
       "4  Probability Distribution Functions (PMF, PDF, ...   \n",
       "\n",
       "                                   preprocessed_text  \\\n",
       "0  polynomials 1 hr 34 min 35 examples introducti...   \n",
       "1  calcworkshop * home * reviews * courses algebr...   \n",
       "2  calcworkshop home reviews courses algebra & ii...   \n",
       "3  calcworkshop home reviews courses algebra & ii...   \n",
       "4  skip navigation sign ad 1 2 · 0:13 grow.google...   \n",
       "\n",
       "                                      tokenized_text  \n",
       "0  [polynomials, hr, min, examples, introduction,...  \n",
       "1  [calcworkshop, home, reviews, courses, algebra...  \n",
       "2  [calcworkshop, home, reviews, courses, algebra...  \n",
       "3  [calcworkshop, home, reviews, courses, algebra...  \n",
       "4  [skip, navigation, sign, ad, grow, google, cer...  "
      ]
     },
     "execution_count": 3,
     "metadata": {},
     "output_type": "execute_result"
    }
   ],
   "source": [
    "from sklearn.feature_extraction.text import CountVectorizer\n",
    "from gensim.corpora import Dictionary\n",
    "from gensim.models.ldamodel import LdaModel\n",
    "from gensim.models import CoherenceModel\n",
    "from nltk.corpus import stopwords\n",
    "from nltk.tokenize import RegexpTokenizer\n",
    "from datetime import datetime\n",
    "import nltk\n",
    "import gensim\n",
    "import pandas as pd\n",
    "import re\n",
    "import math\n",
    "\n",
    "def clean_text(df=df_text, \n",
    "                 text='text', \n",
    "                ):\n",
    "    \n",
    "    df_copy = df.copy()\n",
    "    \n",
    "    \n",
    "    # lowercase the text\n",
    "    df_copy['preprocessed_' + text] = df_copy[text].str.lower()\n",
    "    \n",
    "    # filter out stop words \n",
    "    en_stop_words = set(stopwords.words('english'))\n",
    "    extended_stop_words = en_stop_words | \\\n",
    "                        {\n",
    "                            'Sign in', 'youtube', 'ago', 'www', 'com'\n",
    "                        }\n",
    "    url_re = '(https?:\\/\\/(?:www\\.|(?!www))[a-zA-Z0-9][a-zA-Z0-9-]+[a-zA-Z0-9]\\.[^\\s]{2,}|www\\.[a-zA-Z0-9][a-zA-Z0-9-]+[a-zA-Z0-9]\\.[^\\s]{2,}|https?:\\/\\/(?:www\\.|(?!www))[a-zA-Z0-9]+\\.[^\\s]{2,}|www\\.[a-zA-Z0-9]+\\.[^\\s]{2,})'        \n",
    "    df_copy['preprocessed_' + text] = df_copy['preprocessed_' + text].apply(lambda row: ' '.join([word for word in row.split() if (not word in extended_stop_words) and (not re.match(url_re, word))]))\n",
    "    \n",
    "    # tokenize the text\n",
    "    tokenizer = RegexpTokenizer('[a-zA-Z]\\w+\\'?\\w*')\n",
    "    df_copy['tokenized_' + text] = df_copy['preprocessed_' + text].apply(lambda row: tokenizer.tokenize(row))\n",
    "    \n",
    "    return df_copy\n",
    "  \n",
    "df_text_clean = clean_text(df_text)\n",
    "df_text_clean.head()"
   ]
  },
  {
   "cell_type": "code",
   "execution_count": 4,
   "metadata": {},
   "outputs": [],
   "source": [
    "#df_text_clean.loc[0]['tokenized_text']"
   ]
  },
  {
   "cell_type": "markdown",
   "metadata": {},
   "source": [
    "### Bag of words"
   ]
  },
  {
   "cell_type": "code",
   "execution_count": 5,
   "metadata": {},
   "outputs": [
    {
     "data": {
      "text/plain": [
       "[('data', 412),\n",
       " ('science', 249),\n",
       " ('probability', 119),\n",
       " ('functions', 92),\n",
       " ('analyst', 92),\n",
       " ('university', 91),\n",
       " ('distribution', 89),\n",
       " ('statistics', 80),\n",
       " ('minnesota', 70),\n",
       " ('calculus', 69),\n",
       " ('equations', 67),\n",
       " ('views', 64),\n",
       " ('programs', 61),\n",
       " ('years', 60),\n",
       " ('video', 59),\n",
       " ('graduate', 58),\n",
       " ('playing', 55),\n",
       " ('degree', 53),\n",
       " ('applications', 52),\n",
       " ('master', 51),\n",
       " ('application', 48),\n",
       " ('masters', 48),\n",
       " ('program', 47),\n",
       " ('get', 46),\n",
       " ('online', 41),\n",
       " ('overview', 37),\n",
       " ('edu', 37),\n",
       " ('videos', 35),\n",
       " ('admission', 35),\n",
       " ('function', 34),\n",
       " ('analytics', 34),\n",
       " ('ms', 33),\n",
       " ('vector', 32),\n",
       " ('math', 32),\n",
       " ('discrete', 32),\n",
       " ('algebra', 31),\n",
       " ('cumulative', 31),\n",
       " ('see', 30),\n",
       " ('results', 30),\n",
       " ('course', 30),\n",
       " ('density', 30),\n",
       " ('umn', 30),\n",
       " ('examples', 29),\n",
       " ('courses', 29),\n",
       " ('linear', 29),\n",
       " ('differential', 29),\n",
       " ('pdf', 29),\n",
       " ('trig', 28),\n",
       " ('continuous', 28),\n",
       " ('order', 28),\n",
       " ('one', 28),\n",
       " ('year', 28),\n",
       " ('exam', 27),\n",
       " ('ad', 27),\n",
       " ('feedback', 27),\n",
       " ('admissions', 27),\n",
       " ('find', 26),\n",
       " ('calcworkshop', 26),\n",
       " ('analysis', 26),\n",
       " ('integrals', 26),\n",
       " ('learn', 26),\n",
       " ('students', 26),\n",
       " ('cdf', 26),\n",
       " ('college', 26),\n",
       " ('international', 26),\n",
       " ('use', 25),\n",
       " ('jobs', 25),\n",
       " ('us', 25),\n",
       " ('related', 25),\n",
       " ('youtube', 25),\n",
       " ('twin', 25),\n",
       " ('cities', 25),\n",
       " ('derivatives', 24),\n",
       " ('top', 24),\n",
       " ('going', 24)]"
      ]
     },
     "execution_count": 5,
     "metadata": {},
     "output_type": "execute_result"
    }
   ],
   "source": [
    "def get_most_freq_words(str, n=None):\n",
    "    vect = CountVectorizer().fit(str)\n",
    "    bag_of_words = vect.transform(str)\n",
    "    sum_words = bag_of_words.sum(axis=0) \n",
    "    freq = [(word, sum_words[0, idx]) for word, idx in vect.vocabulary_.items()]\n",
    "    freq =sorted(freq, key = lambda x: x[1], reverse=True)\n",
    "    return freq[:n]\n",
    "  \n",
    "get_most_freq_words([ word for text in df_text_clean.tokenized_text for word in text],75)"
   ]
  },
  {
   "cell_type": "markdown",
   "metadata": {},
   "source": [
    "### Topic coherence"
   ]
  },
  {
   "cell_type": "code",
   "execution_count": 6,
   "metadata": {},
   "outputs": [
    {
     "data": {
      "image/png": "[encoded data removed]",
      "text/plain": [
       "<Figure size 720x360 with 1 Axes>"
      ]
     },
     "metadata": {
      "needs_background": "light"
     },
     "output_type": "display_data"
    }
   ],
   "source": [
    "# build a dictionary where for each site, each word has its own id.\n",
    "text_dictionary = Dictionary(df_text_clean.tokenized_text)\n",
    "\n",
    "# build the corpus i.e. vectors with the number of occurence of each word per webpage\n",
    "text_corpus = [text_dictionary.doc2bow(text) for text in df_text_clean.tokenized_text]\n",
    "\n",
    "# compute coherence\n",
    "text_coherence = []\n",
    "for nb_topics in range(1,36):\n",
    "    lda = LdaModel(text_corpus, num_topics = nb_topics, id2word = text_dictionary, passes=10)\n",
    "    cohm = CoherenceModel(model=lda, corpus=text_corpus, dictionary=text_dictionary, coherence='u_mass')\n",
    "    coh = cohm.get_coherence()\n",
    "    text_coherence.append(coh)\n",
    "\n",
    "# visualize coherence\n",
    "import matplotlib.pyplot as plt\n",
    "plt.figure(figsize=(10,5))\n",
    "plt.plot(range(1,36),text_coherence)\n",
    "plt.xlabel(\"Number of Topics\")\n",
    "plt.ylabel(\"Coherence Score\");"
   ]
  },
  {
   "cell_type": "markdown",
   "metadata": {},
   "source": [
    "### Run LDA"
   ]
  },
  {
   "cell_type": "code",
   "execution_count": 8,
   "metadata": {},
   "outputs": [
    {
     "data": {
      "image/png": "[encoded data removed]",
      "text/plain": [
       "<Figure size 1440x1080 with 10 Axes>"
      ]
     },
     "metadata": {
      "needs_background": "light"
     },
     "output_type": "display_data"
    }
   ],
   "source": [
    "from matplotlib import gridspec\n",
    "\n",
    "k = 10\n",
    "text_lda = LdaModel(text_corpus, num_topics = k, id2word = text_dictionary, passes=10)\n",
    "\n",
    "def plot_top_words(lda=text_lda, nb_topics=k, nb_words=5):\n",
    "    top_words = [[word for word,_ in lda.show_topic(topic_id, topn=50)] for topic_id in range(lda.num_topics)]\n",
    "    top_betas = [[beta for _,beta in lda.show_topic(topic_id, topn=50)] for topic_id in range(lda.num_topics)]\n",
    "\n",
    "    gs  = gridspec.GridSpec(round(math.sqrt(k))+1,round(math.sqrt(k))+1)\n",
    "    gs.update(wspace=0.5, hspace=0.5)\n",
    "    plt.figure(figsize=(20,15))\n",
    "    for i in range(nb_topics):\n",
    "        ax = plt.subplot(gs[i])\n",
    "        plt.barh(range(nb_words), top_betas[i][:nb_words], align='center',color='blue', ecolor='black')\n",
    "        ax.invert_yaxis()\n",
    "        ax.set_yticks(range(nb_words))\n",
    "        ax.set_yticklabels(top_words[i][:nb_words])\n",
    "        plt.title(\"Topic \"+str(i))\n",
    "        \n",
    "  \n",
    "plot_top_words()"
   ]
  },
  {
   "cell_type": "code",
   "execution_count": 10,
   "metadata": {},
   "outputs": [],
   "source": [
    "#notebook adapted from \n",
    "#https://towardsdatascience.com/topic-modeling-with-latent-dirichlet-allocation-by-example-3b22cd10c835"
   ]
  },
  {
   "cell_type": "code",
   "execution_count": null,
   "metadata": {},
   "outputs": [],
   "source": []
  },
  {
   "cell_type": "code",
   "execution_count": null,
   "metadata": {},
   "outputs": [],
   "source": []
  },
  {
   "cell_type": "code",
   "execution_count": null,
   "metadata": {},
   "outputs": [],
   "source": []
  },
  {
   "cell_type": "code",
   "execution_count": null,
   "metadata": {},
   "outputs": [],
   "source": []
  }
 ],
 "metadata": {
  "kernelspec": {
   "display_name": "Python 3",
   "language": "python",
   "name": "python3"
  },
  "language_info": {
   "codemirror_mode": {
    "name": "ipython",
    "version": 3
   },
   "file_extension": ".py",
   "mimetype": "text/x-python",
   "name": "python",
   "nbconvert_exporter": "python",
   "pygments_lexer": "ipython3",
   "version": "3.8.5"
  }
 },
 "nbformat": 4,
 "nbformat_minor": 4
}
